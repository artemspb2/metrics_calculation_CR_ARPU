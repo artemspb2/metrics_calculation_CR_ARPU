{
 "cells": [
  {
   "cell_type": "code",
   "execution_count": 3,
   "metadata": {},
   "outputs": [],
   "source": [
    "import pandas as pd\n",
    "import matplotlib.pyplot as plt\n",
    "plt.style.use('ggplot') # для красоты графиков"
   ]
  },
  {
   "cell_type": "code",
   "execution_count": 4,
   "metadata": {},
   "outputs": [],
   "source": [
    "# Функция в качестве аргумента принимает путь к файлу, загружает его и другие файлы в датасет, объединяет их, \n",
    "# создает промежуточную таблицу и рассчитывает метрики\n",
    "def metrics_recalculation(file_path):\n",
    "    \n",
    "    added_users_df2 = pd.read_csv(file_path) # загрузка нового датасета для функции\n",
    "    url = 'https://getfile.dokpub.com/yandex/get/' #вспомогательная строка для загрузки с Яндекс Диска\n",
    "    groups2 = pd.read_csv('/mnt/HC_Volume_18315164/home-jupyter/jupyter-ar-davydov/Проект_2_groups.csv', sep = ';') # загрузка датасетов для функции, я ЯД не грузится - превышен лимит скачиваний\n",
    "    df2 = pd.concat([groups2, added_users_df2], ignore_index=True) # объединение строк датасетов\n",
    "    active_studs2 = pd.read_csv(url + 'https://disk.yandex.ru/d/Tbs44Bm6H_FwFQ') # загрузка датасетов для функции\n",
    "    checks2 = pd.read_csv(url + 'https://disk.yandex.ru/d/pH1q-VqcxXjsVA', sep =';') # загрузка датасетов для функции\n",
    "    # Объединение датасетов\n",
    "    full_df2 = df2.merge(checks2, left_on='id', right_on='student_id', how = 'outer').merge(active_studs2, left_on='id', right_on='student_id', how = 'outer')\n",
    "    # Промежуточная таблица для расчета метрик. Код взят из EDA, поэтому есть ненужные здесь артефакты\n",
    "    tab = full_df2.query('student_id_y > 0') \\\n",
    "                .groupby('grp') \\\n",
    "                .agg({'rev':['sum', 'mean', 'median', 'count'], 'student_id_y' : 'count' }) \\\n",
    "                .rename(columns = {'sum' : 'сумма_дохода', 'mean' : 'ср_арфм_доход_с_акт_юзера', 'median': 'медиана_ср_дода_с_акт_юзера', 'count': 'число_оплативших_акт_юзеров/число_акт_юзеров'}) \\\n",
    "                .reset_index() \n",
    "    \n",
    "    # Расчет метрик    \n",
    "    CR_metric = round(tab['rev']['число_оплативших_акт_юзеров/число_акт_юзеров']  / tab['student_id_y']['число_оплативших_акт_юзеров/число_акт_юзеров'] * 100, 2)    \n",
    "    ARPU = round(full_df2.query('student_id_y > 0').groupby('grp').agg({'rev': 'mean'}), 2)\n",
    "     \n",
    "    \n",
    "    # Возращаем словарь с 2 метриками и значениями по группам, series и датафрейм\n",
    "    return { \"Конверсия активного пользователя в покупателя по группам, 0 - группа А, 1 - группа В (в %):\" : \n",
    "            CR_metric, \n",
    "            'Средний арифметический доход с 1 активного юзера по группам': ARPU}"
   ]
  },
  {
   "cell_type": "code",
   "execution_count": 5,
   "metadata": {},
   "outputs": [
    {
     "data": {
      "text/plain": [
       "{'Конверсия активного пользователя в покупателя по группам, 0 - группа А, 1 - группа В (в %):': 0    5.07\n",
       " 1    4.62\n",
       " Name: число_оплативших_акт_юзеров/число_акт_юзеров, dtype: float64,\n",
       " 'Средний арифметический доход с 1 активного юзера по группам':          rev\n",
       " grp         \n",
       " A     933.59\n",
       " B    1257.88}"
      ]
     },
     "execution_count": 5,
     "metadata": {},
     "output_type": "execute_result"
    }
   ],
   "source": [
    "# Применяем функцию, сохраняем полученный словарь  в recalculated_metrics для следующей функции, рисующей графики\n",
    "recalculated_metrics =  metrics_recalculation('/mnt/HC_Volume_18315164/home-jupyter/jupyter-ar-davydov/Проект_2_group_add.csv')\n",
    "recalculated_metrics "
   ]
  },
  {
   "cell_type": "code",
   "execution_count": 6,
   "metadata": {},
   "outputs": [],
   "source": [
    "# Функция с 1 аргументом - видом метрики: конверсия или средний доход на 1 пользователя\n",
    "def plot_bar_CR_or_ARPU(metrics_type):\n",
    "    \n",
    "\n",
    "        # Добавляем заголовок и метки осей\n",
    "        if metrics_type == 'Конверсия':\n",
    "            plt.title('Конверсия активного пользователя в покупателя по группам, %')\n",
    "            plt.ylabel('Проценты')\n",
    "            x = ['группа A', 'группа B'] # названия столбцов и остальное потом\n",
    "            \n",
    "            y = recalculated_metrics['Конверсия активного пользователя в покупателя по группам, 0 - группа А, 1 - группа В (в %):'][0], \\\n",
    "               recalculated_metrics['Конверсия активного пользователя в покупателя по группам, 0 - группа А, 1 - группа В (в %):'][1]\n",
    "            # Создаем график в виде столбцов\n",
    "            plt.bar(x, y, color= ['cyan', 'pink'])    \n",
    "            # Добавляем цифры на график\n",
    "            for i in range(len(x)):\n",
    "                plt.text(x[i], y[i], str(y[i]))\n",
    "            # Отображаем график\n",
    "            plt.show()\n",
    "        elif metrics_type == 'ARPU':\n",
    "            plt.title('Конверсия активного пользователя в покупателя по группам, %')\n",
    "            plt.ylabel('Проценты')\n",
    "            x = ['группа A', 'группа B'] # названия столбцов и отсальное потом\n",
    "            y = recalculated_metrics['Средний арифметический доход с 1 активного юзера по группам'].rev[0], \\\n",
    "               recalculated_metrics['Средний арифметический доход с 1 активного юзера по группам'].rev[1]\n",
    "            # Создаем график в виде столбцов\n",
    "            plt.bar(x, y, color= ['cyan', 'pink'])    \n",
    "            # Добавляем цифры на график\n",
    "            for i in range(len(x)):\n",
    "                plt.text(x[i], y[i], str(y[i]))\n",
    "            # Отображаем график\n",
    "            plt.show() \n",
    "        else:\n",
    "            print(\"Для корректного построения графика введите 'Конверсия' или 'ARPU' в качестве аргумента\")\n",
    "            return \n",
    "\n",
    "\n",
    "        "
   ]
  },
  {
   "cell_type": "markdown",
   "metadata": {},
   "source": [
    "Проверка работы функции"
   ]
  },
  {
   "cell_type": "code",
   "execution_count": 7,
   "metadata": {},
   "outputs": [
    {
     "data": {
      "image/png": "[encoded data removed]",
      "text/plain": [
       "<Figure size 432x288 with 1 Axes>"
      ]
     },
     "metadata": {},
     "output_type": "display_data"
    }
   ],
   "source": [
    "# Применяем новую функцию. Конверсия.\n",
    "plot_bar_CR_or_ARPU('Конверсия')"
   ]
  },
  {
   "cell_type": "code",
   "execution_count": 8,
   "metadata": {},
   "outputs": [
    {
     "data": {
      "image/png": "[encoded data removed]",
      "text/plain": [
       "<Figure size 432x288 with 1 Axes>"
      ]
     },
     "metadata": {},
     "output_type": "display_data"
    }
   ],
   "source": [
    "# Применяем новую функцию. ARPU\n",
    "plot_bar_CR_or_ARPU('ARPU')"
   ]
  },
  {
   "cell_type": "code",
   "execution_count": 9,
   "metadata": {},
   "outputs": [
    {
     "name": "stdout",
     "output_type": "stream",
     "text": [
      "Для корректного построения графика введите 'Конверсия' или 'ARPU' в качестве аргумента\n"
     ]
    }
   ],
   "source": [
    "# Применяем новую функцию. Опечатка - получаем то, что должны ввести.\n",
    "plot_bar_CR_or_ARPU('ARPUв')"
   ]
  },
  {
   "cell_type": "code",
   "execution_count": 10,
   "metadata": {},
   "outputs": [
    {
     "ename": "TypeError",
     "evalue": "plot_bar_CR_or_ARPU() missing 1 required positional argument: 'metrics_type'",
     "output_type": "error",
     "traceback": [
      "\u001b[0;31m---------------------------------------------------------------------------\u001b[0m",
      "\u001b[0;31mTypeError\u001b[0m                                 Traceback (most recent call last)",
      "\u001b[0;32m<ipython-input-10-3adbb25e47db>\u001b[0m in \u001b[0;36m<module>\u001b[0;34m\u001b[0m\n\u001b[1;32m      1\u001b[0m \u001b[0;31m# Применяем новую функцию. Не введен аргумент - ошибка\u001b[0m\u001b[0;34m\u001b[0m\u001b[0;34m\u001b[0m\u001b[0;34m\u001b[0m\u001b[0m\n\u001b[0;32m----> 2\u001b[0;31m \u001b[0mplot_bar_CR_or_ARPU\u001b[0m\u001b[0;34m(\u001b[0m\u001b[0;34m)\u001b[0m\u001b[0;34m\u001b[0m\u001b[0;34m\u001b[0m\u001b[0m\n\u001b[0m",
      "\u001b[0;31mTypeError\u001b[0m: plot_bar_CR_or_ARPU() missing 1 required positional argument: 'metrics_type'"
     ]
    }
   ],
   "source": [
    "# Применяем новую функцию. Не введен аргумент - ошибка\n",
    "plot_bar_CR_or_ARPU()"
   ]
  },
  {
   "cell_type": "code",
   "execution_count": 11,
   "metadata": {},
   "outputs": [
    {
     "ename": "NameError",
     "evalue": "name 'sds' is not defined",
     "output_type": "error",
     "traceback": [
      "\u001b[0;31m---------------------------------------------------------------------------\u001b[0m",
      "\u001b[0;31mNameError\u001b[0m                                 Traceback (most recent call last)",
      "\u001b[0;32m<ipython-input-11-c54846546711>\u001b[0m in \u001b[0;36m<module>\u001b[0;34m\u001b[0m\n\u001b[1;32m      1\u001b[0m \u001b[0;31m# Применяем новую функцию.\u001b[0m\u001b[0;34m\u001b[0m\u001b[0;34m\u001b[0m\u001b[0;34m\u001b[0m\u001b[0m\n\u001b[1;32m      2\u001b[0m \u001b[0;31m# Здесь уже подскажет сам питон: \"NameError: name 'sds' is not defined\"\u001b[0m\u001b[0;34m\u001b[0m\u001b[0;34m\u001b[0m\u001b[0;34m\u001b[0m\u001b[0m\n\u001b[0;32m----> 3\u001b[0;31m \u001b[0mplot_bar_CR_or_ARPU\u001b[0m\u001b[0;34m(\u001b[0m\u001b[0msds\u001b[0m\u001b[0;34m)\u001b[0m\u001b[0;34m\u001b[0m\u001b[0;34m\u001b[0m\u001b[0m\n\u001b[0m",
      "\u001b[0;31mNameError\u001b[0m: name 'sds' is not defined"
     ]
    }
   ],
   "source": [
    "# Применяем новую функцию.\n",
    "# Здесь уже подскажет сам питон: \"NameError: name 'sds' is not defined\"\n",
    "plot_bar_CR_or_ARPU(sds)"
   ]
  },
  {
   "cell_type": "code",
   "execution_count": 12,
   "metadata": {},
   "outputs": [
    {
     "ename": "SyntaxError",
     "evalue": "EOL while scanning string literal (<ipython-input-12-45386b1e6744>, line 3)",
     "output_type": "error",
     "traceback": [
      "\u001b[0;36m  File \u001b[0;32m\"<ipython-input-12-45386b1e6744>\"\u001b[0;36m, line \u001b[0;32m3\u001b[0m\n\u001b[0;31m    plot_bar_CR_or_ARPU('sds)\u001b[0m\n\u001b[0m                             ^\u001b[0m\n\u001b[0;31mSyntaxError\u001b[0m\u001b[0;31m:\u001b[0m EOL while scanning string literal\n"
     ]
    }
   ],
   "source": [
    "# Применяем новую функцию.\n",
    "# Здесь уже подскажет сам питон: \"SyntaxError: EOL while scanning string literal\"\n",
    "plot_bar_CR_or_ARPU('sds)"
   ]
  },
  {
   "cell_type": "code",
   "execution_count": null,
   "metadata": {},
   "outputs": [],
   "source": []
  },
  {
   "cell_type": "code",
   "execution_count": null,
   "metadata": {},
   "outputs": [],
   "source": []
  }
 ],
 "metadata": {
  "kernelspec": {
   "display_name": "Python 3",
   "language": "python",
   "name": "python3"
  },
  "language_info": {
   "codemirror_mode": {
    "name": "ipython",
    "version": 3
   },
   "file_extension": ".py",
   "mimetype": "text/x-python",
   "name": "python",
   "nbconvert_exporter": "python",
   "pygments_lexer": "ipython3",
   "version": "3.7.3"
  }
 },
 "nbformat": 4,
 "nbformat_minor": 4
}
