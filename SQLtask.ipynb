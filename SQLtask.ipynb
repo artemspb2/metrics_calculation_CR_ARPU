{
 "cells": [
  {
   "cell_type": "code",
   "execution_count": 1,
   "metadata": {},
   "outputs": [],
   "source": [
    "#pip install pandahouse  # если библиотека ещё не установлена\n",
    "import pandahouse as ph\n",
    "# Здесь презентация: CR ARPU students AB test\n",
    "import time # для иззмерения времени запроса"
   ]
  },
  {
   "cell_type": "code",
   "execution_count": 2,
   "metadata": {},
   "outputs": [],
   "source": [
    "connection_default = {'host': 'https://clickhouse.lab.karpov.courses',\n",
    "                      'database':'default',\n",
    "                      'user':'student', \n",
    "                      'password':'dpo_python_2020'\n",
    "                     }"
   ]
  },
  {
   "cell_type": "code",
   "execution_count": 3,
   "metadata": {},
   "outputs": [
    {
     "name": "stdout",
     "output_type": "stream",
     "text": [
      "Время выполнения запроса: 0.20 секунд\n"
     ]
    },
    {
     "data": {
      "text/html": [
       "<div>\n",
       "<style scoped>\n",
       "    .dataframe tbody tr th:only-of-type {\n",
       "        vertical-align: middle;\n",
       "    }\n",
       "\n",
       "    .dataframe tbody tr th {\n",
       "        vertical-align: top;\n",
       "    }\n",
       "\n",
       "    .dataframe thead th {\n",
       "        text-align: right;\n",
       "    }\n",
       "</style>\n",
       "<table border=\"1\" class=\"dataframe\">\n",
       "  <thead>\n",
       "    <tr style=\"text-align: right;\">\n",
       "      <th></th>\n",
       "      <th>count_of_eager_students</th>\n",
       "    </tr>\n",
       "  </thead>\n",
       "  <tbody>\n",
       "    <tr>\n",
       "      <th>0</th>\n",
       "      <td>136</td>\n",
       "    </tr>\n",
       "  </tbody>\n",
       "</table>\n",
       "</div>"
      ],
      "text/plain": [
       "   count_of_eager_students\n",
       "0                      136"
      ]
     },
     "execution_count": 3,
     "metadata": {},
     "output_type": "execute_result"
    }
   ],
   "source": [
    "# создаем запрос, db автоматически заменится на значение из database\n",
    "# нет особого смысла в AND toMonth(timest) = 10, но в условии прописано про \"в этом месяце\"\n",
    "# и вообще там тогда должно быть AND toMonth(timest) = toMonth(now()), но на апрель 2023 года в БД записей нет - выводит 0\n",
    "# сделал 2 запроса\n",
    "start_time = time.time() # начало исполнения запроса\n",
    "\n",
    "q = '''\n",
    "--SELECT MAX(timest) FROM default.peas -- 2021-10-31 17:29:52.000 самая поздняя дата в таблице\n",
    "--SELECT MIN(timest) FROM default.peas -- 2021-10-30 13:00:00.000 самая ранняя дата в таблице\n",
    "\n",
    "SELECT\n",
    "    COUNT(diligence) AS count_of_eager_students\n",
    "FROM(\n",
    "SELECT \n",
    "    SUM(correct) AS diligence\n",
    "FROM default.peas\n",
    "GROUP BY st_id\n",
    "HAVING diligence >= 20 AND toMonth(timest) = 10) AS t\n",
    "    '''\n",
    "\n",
    "# отправляем запрос и записываем результат в пандасовский датафрейм\n",
    "diligence = ph.read_clickhouse(query=q, connection=connection_default)\n",
    "\n",
    "end_time = time.time() # конец исполнения запроса\n",
    "elapsed_time = end_time - start_time #  время запроса\n",
    "\n",
    "print(\"Время выполнения запроса: {:.2f} секунд\".format(elapsed_time))\n",
    "\n",
    "diligence"
   ]
  },
  {
   "cell_type": "code",
   "execution_count": 4,
   "metadata": {},
   "outputs": [
    {
     "name": "stdout",
     "output_type": "stream",
     "text": [
      "Время выполнения запроса: 0.06 секунд\n"
     ]
    },
    {
     "data": {
      "text/html": [
       "<div>\n",
       "<style scoped>\n",
       "    .dataframe tbody tr th:only-of-type {\n",
       "        vertical-align: middle;\n",
       "    }\n",
       "\n",
       "    .dataframe tbody tr th {\n",
       "        vertical-align: top;\n",
       "    }\n",
       "\n",
       "    .dataframe thead th {\n",
       "        text-align: right;\n",
       "    }\n",
       "</style>\n",
       "<table border=\"1\" class=\"dataframe\">\n",
       "  <thead>\n",
       "    <tr style=\"text-align: right;\">\n",
       "      <th></th>\n",
       "      <th>count_of_eager_students</th>\n",
       "    </tr>\n",
       "  </thead>\n",
       "  <tbody>\n",
       "    <tr>\n",
       "      <th>0</th>\n",
       "      <td>136</td>\n",
       "    </tr>\n",
       "  </tbody>\n",
       "</table>\n",
       "</div>"
      ],
      "text/plain": [
       "   count_of_eager_students\n",
       "0                      136"
      ]
     },
     "execution_count": 4,
     "metadata": {},
     "output_type": "execute_result"
    }
   ],
   "source": [
    "# создаем запрос, db автоматически заменится на значение из database\n",
    "# нет особого смысла в AND toMonth(timest) = 10, но в условии прописано про \"в этом месяце\"\n",
    "# и вообще там тогда должно быть AND toMonth(timest) = toMonth(now()), но на апрель 2023 года в БД записей нет - выводит 0\n",
    "start_time = time.time() # начало исполнения запроса\n",
    "q = '''\n",
    "--SELECT MAX(timest) FROM default.peas -- 2021-10-31 17:29:52.000 самая поздняя дата в таблице\n",
    "--SELECT MIN(timest) FROM default.peas -- 2021-10-30 13:00:00.000 самая ранняя дата в таблице\n",
    "\n",
    "SELECT COUNT(st_id) AS count_of_eager_students\n",
    "FROM (\n",
    "    SELECT st_id\n",
    "    FROM (\n",
    "        SELECT st_id, SUM(correct) AS diligence\n",
    "        FROM default.peas\n",
    "        WHERE toMonth(timest) = 10\n",
    "        GROUP BY st_id\n",
    "    ) AS t\n",
    "    WHERE diligence >= 20\n",
    ") AS t2\n",
    "    '''\n",
    "\n",
    "# отправляем запрос и записываем результат в пандасовский датафрейм\n",
    "diligence = ph.read_clickhouse(query=q, connection=connection_default)\n",
    "\n",
    "end_time = time.time() # конец исполнения запроса\n",
    "elapsed_time = end_time - start_time #  время запроса\n",
    "\n",
    "print(\"Время выполнения запроса: {:.2f} секунд\".format(elapsed_time))\n",
    "\n",
    "diligence"
   ]
  },
  {
   "cell_type": "code",
   "execution_count": 5,
   "metadata": {},
   "outputs": [
    {
     "data": {
      "text/html": [
       "<div>\n",
       "<style scoped>\n",
       "    .dataframe tbody tr th:only-of-type {\n",
       "        vertical-align: middle;\n",
       "    }\n",
       "\n",
       "    .dataframe tbody tr th {\n",
       "        vertical-align: top;\n",
       "    }\n",
       "\n",
       "    .dataframe thead th {\n",
       "        text-align: right;\n",
       "    }\n",
       "</style>\n",
       "<table border=\"1\" class=\"dataframe\">\n",
       "  <thead>\n",
       "    <tr style=\"text-align: right;\">\n",
       "      <th></th>\n",
       "      <th>Experiment_group</th>\n",
       "      <th>ARPU</th>\n",
       "      <th>ARPU_a</th>\n",
       "      <th>CR</th>\n",
       "      <th>CR_a</th>\n",
       "      <th>CR_math_a</th>\n",
       "    </tr>\n",
       "  </thead>\n",
       "  <tbody>\n",
       "    <tr>\n",
       "      <th>0</th>\n",
       "      <td>control</td>\n",
       "      <td>4540.98</td>\n",
       "      <td>10393.70</td>\n",
       "      <td>4.92</td>\n",
       "      <td>11.02</td>\n",
       "      <td>6.12</td>\n",
       "    </tr>\n",
       "    <tr>\n",
       "      <th>1</th>\n",
       "      <td>pilot</td>\n",
       "      <td>11508.47</td>\n",
       "      <td>29739.58</td>\n",
       "      <td>10.85</td>\n",
       "      <td>26.04</td>\n",
       "      <td>9.52</td>\n",
       "    </tr>\n",
       "  </tbody>\n",
       "</table>\n",
       "</div>"
      ],
      "text/plain": [
       "  Experiment_group      ARPU    ARPU_a     CR   CR_a  CR_math_a\n",
       "0          control   4540.98  10393.70   4.92  11.02       6.12\n",
       "1            pilot  11508.47  29739.58  10.85  26.04       9.52"
      ]
     },
     "execution_count": 5,
     "metadata": {},
     "output_type": "execute_result"
    }
   ],
   "source": [
    "# создаем запрос, db автоматически заменится на значение из database\n",
    "q = '''\n",
    "-- табличное выражение для расчета метрик\n",
    "WITH cte1 as (\n",
    "SELECT\n",
    "    studs.st_id as id,\n",
    "    studs.test_grp as experiment_group,\n",
    "    check.money as payment,\n",
    "    check.subject as discipline,\n",
    "    peas_count.points_a as points_a,\n",
    "    peas_count.math_points_a as math_points_a\n",
    "FROM default.studs as studs\n",
    "LEFT JOIN default.final_project_check as check\n",
    "    ON studs.st_id = check.st_id\n",
    "LEFT JOIN ( \n",
    "        SELECT -- таблица с айди студентов и количеством баллов (горошин) по всем предметам и только по математике\n",
    "            st_id,\n",
    "            SUM(correct) as points_a,\n",
    "            SUMIf(correct, subject = 'Math') as math_points_a\n",
    "        FROM default.peas\n",
    "        GROUP BY st_id)  as peas_count\n",
    "    ON studs.st_id = peas_count.st_id\n",
    ") \n",
    "\n",
    "-- расчет метрик\n",
    "SELECT \n",
    "    experiment_group as Experiment_group,\n",
    "    ROUND(SUM(payment) / uniqExact(id), 2) as ARPU, -- средний чек на 1 пользователя\n",
    "    ROUND(SUMIf(payment, points_a > 10 )/uniqIf(id, points_a > 10), 2) as ARPU_a, -- средний чек на 1 активного пользователя\n",
    "    ROUND((uniqIf(id, payment > 0) / uniq(id))*100, 2) as CR, -- общая конверсия в покупку\n",
    "    ROUND((uniqIf(id, payment > 0 AND points_a > 10) / uniqIf(id, points_a > 10))*100, 2) as CR_a, -- конверсия активных пользователей в покупку\n",
    "    ROUND((uniqIf(id, payment > 0 AND math_points_a >= 2 AND discipline = 'Math') / uniqIf(id, math_points_a >= 2))*100, 2) as CR_math_a --конверсия пользователей, активных по математике  в покупку курса по математике \n",
    "FROM cte1\n",
    "GROUP BY experiment_group\n",
    "    '''\n",
    "\n",
    "# отправляем запрос и записываем результат в пандасовский датафрейм\n",
    "metrics = ph.read_clickhouse(query=q, connection=connection_default)\n",
    "metrics"
   ]
  },
  {
   "cell_type": "code",
   "execution_count": null,
   "metadata": {},
   "outputs": [],
   "source": []
  }
 ],
 "metadata": {
  "kernelspec": {
   "display_name": "Python 3",
   "language": "python",
   "name": "python3"
  },
  "language_info": {
   "codemirror_mode": {
    "name": "ipython",
    "version": 3
   },
   "file_extension": ".py",
   "mimetype": "text/x-python",
   "name": "python",
   "nbconvert_exporter": "python",
   "pygments_lexer": "ipython3",
   "version": "3.7.3"
  }
 },
 "nbformat": 4,
 "nbformat_minor": 4
}
